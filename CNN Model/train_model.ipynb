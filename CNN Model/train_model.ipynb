{
 "cells": [
  {
   "cell_type": "code",
   "execution_count": 1,
   "id": "08fb5e5a",
   "metadata": {},
   "outputs": [],
   "source": [
    "import numpy as np\n",
    "import os\n",
    "from matplotlib import pyplot as plt\n",
    "import cv2\n",
    "import random\n",
    "import pickle"
   ]
  },
  {
   "cell_type": "code",
   "execution_count": 2,
   "id": "3d6745ee",
   "metadata": {},
   "outputs": [],
   "source": [
    "file_list, class_list = [], []\n",
    "\n",
    "IMG_SIZE = 80\n",
    "DATADIR = 'Train'\n",
    "CATEGORIES = [\"anticlockwise\",\"clockwise\"]\n",
    "\n",
    "for category in CATEGORIES :\n",
    "    path = os.path.join(DATADIR, category)\n",
    "    for img in os.listdir(path):\n",
    "        img_array = cv2.imread(os.path.join(path, img), cv2.IMREAD_GRAYSCALE)\n",
    "        #plt.imshow(img_array)\n",
    "\n",
    "training_data = []\n",
    "\n",
    "def create_training_data():\n",
    "    for category in CATEGORIES :\n",
    "        path = os.path.join(DATADIR, category)\n",
    "        class_num = CATEGORIES.index(category)\n",
    "        for img in os.listdir(path):\n",
    "            try :\n",
    "                img_array = cv2.imread(os.path.join(path, img), cv2.IMREAD_GRAYSCALE)\n",
    "                #print(img_array,len(img_array))\n",
    "                new_array = cv2.resize(img_array, (IMG_SIZE, IMG_SIZE))\n",
    "                training_data.append([new_array, class_num])\n",
    "            except Exception as e:\n",
    "                pass\n",
    "\n",
    "create_training_data()\n",
    "X, y = [], []\n",
    "\n",
    "for features, label in training_data:\n",
    "    X.append(features)\n",
    "    y.append(label)\n",
    "\n",
    "#print(len(X),len(y),X[0])\n",
    "\n",
    "\n"
   ]
  },
  {
   "cell_type": "code",
   "execution_count": 3,
   "id": "8db1186e",
   "metadata": {},
   "outputs": [],
   "source": [
    "X = np.array(X).reshape(-1, IMG_SIZE, IMG_SIZE, 1)\n",
    "#print(len(X[0]))\n",
    "y = np.array(y)\n",
    "\n",
    "# Creating the files containing all the information about your model\n",
    "pickle_out = open(\"X.pickle\", \"wb\")\n",
    "pickle.dump(X, pickle_out)\n",
    "pickle_out.close()\n",
    "\n",
    "pickle_out = open(\"y.pickle\", \"wb\")\n",
    "pickle.dump(y, pickle_out)\n",
    "pickle_out.close()\n",
    "\n",
    "pickle_in = open(\"X.pickle\", \"rb\")\n",
    "X = pickle.load(pickle_in)"
   ]
  },
  {
   "cell_type": "code",
   "execution_count": 4,
   "id": "21476ff4",
   "metadata": {},
   "outputs": [
    {
     "name": "stderr",
     "output_type": "stream",
     "text": [
      "/home/subhodeep/miniconda3/envs/ML/lib/python3.6/site-packages/tensorflow/python/framework/dtypes.py:516: FutureWarning: Passing (type, 1) or '1type' as a synonym of type is deprecated; in a future version of numpy, it will be understood as (type, (1,)) / '(1,)type'.\n",
      "  _np_qint8 = np.dtype([(\"qint8\", np.int8, 1)])\n",
      "/home/subhodeep/miniconda3/envs/ML/lib/python3.6/site-packages/tensorflow/python/framework/dtypes.py:517: FutureWarning: Passing (type, 1) or '1type' as a synonym of type is deprecated; in a future version of numpy, it will be understood as (type, (1,)) / '(1,)type'.\n",
      "  _np_quint8 = np.dtype([(\"quint8\", np.uint8, 1)])\n",
      "/home/subhodeep/miniconda3/envs/ML/lib/python3.6/site-packages/tensorflow/python/framework/dtypes.py:518: FutureWarning: Passing (type, 1) or '1type' as a synonym of type is deprecated; in a future version of numpy, it will be understood as (type, (1,)) / '(1,)type'.\n",
      "  _np_qint16 = np.dtype([(\"qint16\", np.int16, 1)])\n",
      "/home/subhodeep/miniconda3/envs/ML/lib/python3.6/site-packages/tensorflow/python/framework/dtypes.py:519: FutureWarning: Passing (type, 1) or '1type' as a synonym of type is deprecated; in a future version of numpy, it will be understood as (type, (1,)) / '(1,)type'.\n",
      "  _np_quint16 = np.dtype([(\"quint16\", np.uint16, 1)])\n",
      "/home/subhodeep/miniconda3/envs/ML/lib/python3.6/site-packages/tensorflow/python/framework/dtypes.py:520: FutureWarning: Passing (type, 1) or '1type' as a synonym of type is deprecated; in a future version of numpy, it will be understood as (type, (1,)) / '(1,)type'.\n",
      "  _np_qint32 = np.dtype([(\"qint32\", np.int32, 1)])\n",
      "/home/subhodeep/miniconda3/envs/ML/lib/python3.6/site-packages/tensorflow/python/framework/dtypes.py:525: FutureWarning: Passing (type, 1) or '1type' as a synonym of type is deprecated; in a future version of numpy, it will be understood as (type, (1,)) / '(1,)type'.\n",
      "  np_resource = np.dtype([(\"resource\", np.ubyte, 1)])\n",
      "/home/subhodeep/miniconda3/envs/ML/lib/python3.6/site-packages/tensorboard/compat/tensorflow_stub/dtypes.py:541: FutureWarning: Passing (type, 1) or '1type' as a synonym of type is deprecated; in a future version of numpy, it will be understood as (type, (1,)) / '(1,)type'.\n",
      "  _np_qint8 = np.dtype([(\"qint8\", np.int8, 1)])\n",
      "/home/subhodeep/miniconda3/envs/ML/lib/python3.6/site-packages/tensorboard/compat/tensorflow_stub/dtypes.py:542: FutureWarning: Passing (type, 1) or '1type' as a synonym of type is deprecated; in a future version of numpy, it will be understood as (type, (1,)) / '(1,)type'.\n",
      "  _np_quint8 = np.dtype([(\"quint8\", np.uint8, 1)])\n",
      "/home/subhodeep/miniconda3/envs/ML/lib/python3.6/site-packages/tensorboard/compat/tensorflow_stub/dtypes.py:543: FutureWarning: Passing (type, 1) or '1type' as a synonym of type is deprecated; in a future version of numpy, it will be understood as (type, (1,)) / '(1,)type'.\n",
      "  _np_qint16 = np.dtype([(\"qint16\", np.int16, 1)])\n",
      "/home/subhodeep/miniconda3/envs/ML/lib/python3.6/site-packages/tensorboard/compat/tensorflow_stub/dtypes.py:544: FutureWarning: Passing (type, 1) or '1type' as a synonym of type is deprecated; in a future version of numpy, it will be understood as (type, (1,)) / '(1,)type'.\n",
      "  _np_quint16 = np.dtype([(\"quint16\", np.uint16, 1)])\n",
      "/home/subhodeep/miniconda3/envs/ML/lib/python3.6/site-packages/tensorboard/compat/tensorflow_stub/dtypes.py:545: FutureWarning: Passing (type, 1) or '1type' as a synonym of type is deprecated; in a future version of numpy, it will be understood as (type, (1,)) / '(1,)type'.\n",
      "  _np_qint32 = np.dtype([(\"qint32\", np.int32, 1)])\n",
      "/home/subhodeep/miniconda3/envs/ML/lib/python3.6/site-packages/tensorboard/compat/tensorflow_stub/dtypes.py:550: FutureWarning: Passing (type, 1) or '1type' as a synonym of type is deprecated; in a future version of numpy, it will be understood as (type, (1,)) / '(1,)type'.\n",
      "  np_resource = np.dtype([(\"resource\", np.ubyte, 1)])\n",
      "Using TensorFlow backend.\n"
     ]
    }
   ],
   "source": [
    "import tensorflow as tf \n",
    "from tensorflow.keras.models import Sequential\n",
    "from tensorflow.keras.layers import Dense, Dropout, Activation, Flatten, Conv2D, MaxPooling2D\n",
    "import pickle\n",
    "from keras.models import model_from_json\n",
    "from keras.models import load_model\n",
    "import matplotlib.pyplot as plt"
   ]
  },
  {
   "cell_type": "code",
   "execution_count": 5,
   "id": "edfd648d",
   "metadata": {},
   "outputs": [],
   "source": [
    "# Opening the files about data\n",
    "X = pickle.load(open(\"X.pickle\", \"rb\"))\n",
    "y = pickle.load(open(\"y.pickle\", \"rb\"))\n",
    "\n",
    "# normalizing data (a pixel goes from 0 to 255)\n",
    "X = X/255.0"
   ]
  },
  {
   "cell_type": "code",
   "execution_count": 6,
   "id": "61ef340b",
   "metadata": {},
   "outputs": [
    {
     "name": "stdout",
     "output_type": "stream",
     "text": [
      "WARNING:tensorflow:From /home/subhodeep/miniconda3/envs/ML/lib/python3.6/site-packages/tensorflow/python/ops/init_ops.py:1251: calling VarianceScaling.__init__ (from tensorflow.python.ops.init_ops) with dtype is deprecated and will be removed in a future version.\n",
      "Instructions for updating:\n",
      "Call initializer instance with the dtype argument instead of passing it to the constructor\n"
     ]
    }
   ],
   "source": [
    "# Building the model\n",
    "model = Sequential()\n",
    "# 3 convolutional layers\n",
    "model.add(Conv2D(32, (3, 3), input_shape = X.shape[1:]))\n",
    "model.add(Activation(\"relu\"))\n",
    "model.add(MaxPooling2D(pool_size=(2,2)))\n",
    "\n",
    "model.add(Conv2D(64, (3, 3)))\n",
    "model.add(Activation(\"relu\"))\n",
    "model.add(MaxPooling2D(pool_size=(2,2)))\n",
    "\n",
    "model.add(Conv2D(64, (3, 3)))\n",
    "model.add(Activation(\"relu\"))\n",
    "model.add(MaxPooling2D(pool_size=(2,2)))\n",
    "model.add(Dropout(0.25))\n",
    "\n",
    "# 2 hidden layers\n",
    "model.add(Flatten())\n",
    "model.add(Dense(128))\n",
    "model.add(Activation(\"relu\"))\n",
    "\n",
    "model.add(Dense(128))\n",
    "model.add(Activation(\"relu\"))\n",
    "\n",
    "# The output layer with 2 neurons, for 2 classes\n",
    "model.add(Dense(2))\n",
    "model.add(Activation(\"softmax\"))"
   ]
  },
  {
   "cell_type": "code",
   "execution_count": 7,
   "id": "716d2e10",
   "metadata": {},
   "outputs": [
    {
     "name": "stdout",
     "output_type": "stream",
     "text": [
      "Model: \"sequential\"\n",
      "_________________________________________________________________\n",
      "Layer (type)                 Output Shape              Param #   \n",
      "=================================================================\n",
      "conv2d (Conv2D)              (None, 78, 78, 32)        320       \n",
      "_________________________________________________________________\n",
      "activation (Activation)      (None, 78, 78, 32)        0         \n",
      "_________________________________________________________________\n",
      "max_pooling2d (MaxPooling2D) (None, 39, 39, 32)        0         \n",
      "_________________________________________________________________\n",
      "conv2d_1 (Conv2D)            (None, 37, 37, 64)        18496     \n",
      "_________________________________________________________________\n",
      "activation_1 (Activation)    (None, 37, 37, 64)        0         \n",
      "_________________________________________________________________\n",
      "max_pooling2d_1 (MaxPooling2 (None, 18, 18, 64)        0         \n",
      "_________________________________________________________________\n",
      "conv2d_2 (Conv2D)            (None, 16, 16, 64)        36928     \n",
      "_________________________________________________________________\n",
      "activation_2 (Activation)    (None, 16, 16, 64)        0         \n",
      "_________________________________________________________________\n",
      "max_pooling2d_2 (MaxPooling2 (None, 8, 8, 64)          0         \n",
      "_________________________________________________________________\n",
      "dropout (Dropout)            (None, 8, 8, 64)          0         \n",
      "_________________________________________________________________\n",
      "flatten (Flatten)            (None, 4096)              0         \n",
      "_________________________________________________________________\n",
      "dense (Dense)                (None, 128)               524416    \n",
      "_________________________________________________________________\n",
      "activation_3 (Activation)    (None, 128)               0         \n",
      "_________________________________________________________________\n",
      "dense_1 (Dense)              (None, 128)               16512     \n",
      "_________________________________________________________________\n",
      "activation_4 (Activation)    (None, 128)               0         \n",
      "_________________________________________________________________\n",
      "dense_2 (Dense)              (None, 2)                 258       \n",
      "_________________________________________________________________\n",
      "activation_5 (Activation)    (None, 2)                 0         \n",
      "=================================================================\n",
      "Total params: 596,930\n",
      "Trainable params: 596,930\n",
      "Non-trainable params: 0\n",
      "_________________________________________________________________\n"
     ]
    }
   ],
   "source": [
    "model.summary()"
   ]
  },
  {
   "cell_type": "code",
   "execution_count": 8,
   "id": "58c6c18c",
   "metadata": {},
   "outputs": [
    {
     "name": "stdout",
     "output_type": "stream",
     "text": [
      "Train on 285 samples, validate on 15 samples\n",
      "Epoch 1/35\n",
      "285/285 [==============================] - 1s 2ms/sample - loss: 0.7012 - acc: 0.5088 - val_loss: 0.6461 - val_acc: 1.0000\n",
      "Epoch 2/35\n",
      "285/285 [==============================] - 1s 2ms/sample - loss: 0.6873 - acc: 0.5509 - val_loss: 0.6496 - val_acc: 0.7333\n",
      "Epoch 3/35\n",
      "285/285 [==============================] - 1s 2ms/sample - loss: 0.6729 - acc: 0.5930 - val_loss: 0.8762 - val_acc: 0.0000e+00\n",
      "Epoch 4/35\n",
      "285/285 [==============================] - 1s 2ms/sample - loss: 0.6556 - acc: 0.5930 - val_loss: 0.5771 - val_acc: 0.6000\n",
      "Epoch 5/35\n",
      "285/285 [==============================] - 1s 2ms/sample - loss: 0.6174 - acc: 0.6632 - val_loss: 1.0873 - val_acc: 0.0667\n",
      "Epoch 6/35\n",
      "285/285 [==============================] - 1s 2ms/sample - loss: 0.6816 - acc: 0.6316 - val_loss: 0.8827 - val_acc: 0.0667\n",
      "Epoch 7/35\n",
      "285/285 [==============================] - 1s 2ms/sample - loss: 0.6687 - acc: 0.5965 - val_loss: 0.6278 - val_acc: 0.6000\n",
      "Epoch 8/35\n",
      "285/285 [==============================] - 1s 2ms/sample - loss: 0.6202 - acc: 0.6947 - val_loss: 0.6127 - val_acc: 0.6000\n",
      "Epoch 9/35\n",
      "285/285 [==============================] - 1s 2ms/sample - loss: 0.5825 - acc: 0.7333 - val_loss: 0.6673 - val_acc: 0.4667\n",
      "Epoch 10/35\n",
      "285/285 [==============================] - 1s 2ms/sample - loss: 0.6060 - acc: 0.6947 - val_loss: 1.0393 - val_acc: 0.2000\n",
      "Epoch 11/35\n",
      "285/285 [==============================] - 1s 2ms/sample - loss: 0.5817 - acc: 0.6842 - val_loss: 0.8433 - val_acc: 0.2000\n",
      "Epoch 12/35\n",
      "285/285 [==============================] - 1s 2ms/sample - loss: 0.6062 - acc: 0.6667 - val_loss: 0.5047 - val_acc: 0.6667\n",
      "Epoch 13/35\n",
      "285/285 [==============================] - 1s 2ms/sample - loss: 0.5408 - acc: 0.7649 - val_loss: 0.5810 - val_acc: 0.6000\n",
      "Epoch 14/35\n",
      "285/285 [==============================] - 1s 2ms/sample - loss: 0.4782 - acc: 0.7965 - val_loss: 0.6945 - val_acc: 0.6000\n",
      "Epoch 15/35\n",
      "285/285 [==============================] - 1s 2ms/sample - loss: 0.4271 - acc: 0.8211 - val_loss: 0.4626 - val_acc: 0.6667\n",
      "Epoch 16/35\n",
      "285/285 [==============================] - 1s 2ms/sample - loss: 0.4051 - acc: 0.8070 - val_loss: 0.3127 - val_acc: 0.8000\n",
      "Epoch 17/35\n",
      "285/285 [==============================] - 1s 2ms/sample - loss: 0.3395 - acc: 0.8632 - val_loss: 0.6297 - val_acc: 0.6000\n",
      "Epoch 18/35\n",
      "285/285 [==============================] - 1s 2ms/sample - loss: 0.2750 - acc: 0.8772 - val_loss: 0.6656 - val_acc: 0.6667\n",
      "Epoch 19/35\n",
      "285/285 [==============================] - 1s 2ms/sample - loss: 0.2604 - acc: 0.8772 - val_loss: 0.4328 - val_acc: 0.7333\n",
      "Epoch 20/35\n",
      "285/285 [==============================] - 1s 2ms/sample - loss: 0.2279 - acc: 0.9123 - val_loss: 0.5543 - val_acc: 0.7333\n",
      "Epoch 21/35\n",
      "285/285 [==============================] - 1s 2ms/sample - loss: 0.1635 - acc: 0.9333 - val_loss: 0.7929 - val_acc: 0.6667\n",
      "Epoch 22/35\n",
      "285/285 [==============================] - 1s 2ms/sample - loss: 0.1189 - acc: 0.9614 - val_loss: 1.3278 - val_acc: 0.4667\n",
      "Epoch 23/35\n",
      "285/285 [==============================] - 1s 2ms/sample - loss: 0.1005 - acc: 0.9614 - val_loss: 1.0842 - val_acc: 0.6000\n",
      "Epoch 24/35\n",
      "285/285 [==============================] - 1s 2ms/sample - loss: 0.0577 - acc: 0.9860 - val_loss: 1.6979 - val_acc: 0.4667\n",
      "Epoch 25/35\n",
      "285/285 [==============================] - 1s 2ms/sample - loss: 0.0786 - acc: 0.9684 - val_loss: 1.4338 - val_acc: 0.5333\n",
      "Epoch 26/35\n",
      "285/285 [==============================] - 1s 2ms/sample - loss: 0.0554 - acc: 0.9895 - val_loss: 2.2131 - val_acc: 0.4667\n",
      "Epoch 27/35\n",
      "285/285 [==============================] - 1s 2ms/sample - loss: 0.0398 - acc: 0.9930 - val_loss: 1.9213 - val_acc: 0.4667\n",
      "Epoch 28/35\n",
      "285/285 [==============================] - 1s 2ms/sample - loss: 0.0482 - acc: 0.9895 - val_loss: 2.0683 - val_acc: 0.4667\n",
      "Epoch 29/35\n",
      "285/285 [==============================] - 1s 2ms/sample - loss: 0.0364 - acc: 0.9930 - val_loss: 0.6219 - val_acc: 0.7333\n",
      "Epoch 30/35\n",
      "285/285 [==============================] - 1s 2ms/sample - loss: 0.0197 - acc: 0.9965 - val_loss: 0.9791 - val_acc: 0.6667\n",
      "Epoch 31/35\n",
      "285/285 [==============================] - 1s 2ms/sample - loss: 0.0147 - acc: 1.0000 - val_loss: 1.8473 - val_acc: 0.5333\n",
      "Epoch 32/35\n",
      "285/285 [==============================] - 1s 2ms/sample - loss: 0.0080 - acc: 1.0000 - val_loss: 0.9768 - val_acc: 0.6667\n",
      "Epoch 33/35\n",
      "285/285 [==============================] - 1s 2ms/sample - loss: 0.0206 - acc: 0.9895 - val_loss: 1.2476 - val_acc: 0.7333\n",
      "Epoch 34/35\n",
      "285/285 [==============================] - 1s 2ms/sample - loss: 0.0109 - acc: 0.9965 - val_loss: 0.9879 - val_acc: 0.7333\n",
      "Epoch 35/35\n",
      "285/285 [==============================] - 1s 2ms/sample - loss: 0.0218 - acc: 0.9930 - val_loss: 1.3218 - val_acc: 0.6000\n"
     ]
    }
   ],
   "source": [
    "# Compiling the model using some basic parameters\n",
    "model.compile(loss=\"sparse_categorical_crossentropy\",\n",
    "                optimizer=\"adam\",\n",
    "                metrics=[\"accuracy\"])\n",
    "\n",
    "# Training the model, with 40 iterations\n",
    "# validation_split corresponds to the percentage of images used for the validation phase compared to all the images\n",
    "history = model.fit(X, y, batch_size=32, epochs=35, validation_split=0.05)"
   ]
  },
  {
   "cell_type": "code",
   "execution_count": 9,
   "id": "97c2ab60",
   "metadata": {},
   "outputs": [
    {
     "name": "stdout",
     "output_type": "stream",
     "text": [
      "Saved model to disk\n"
     ]
    }
   ],
   "source": [
    "model_json = model.to_json()\n",
    "with open(\"model.json\", \"w\") as json_file :\n",
    "    json_file.write(model_json)\n",
    "\n",
    "model.save_weights(\"model.h5\")\n",
    "print(\"Saved model to disk\")\n",
    "\n",
    "model.save('CNN.model')"
   ]
  },
  {
   "cell_type": "code",
   "execution_count": 10,
   "id": "bca8fd37",
   "metadata": {},
   "outputs": [
    {
     "name": "stdout",
     "output_type": "stream",
     "text": [
      "dict_keys(['loss', 'acc', 'val_loss', 'val_acc'])\n"
     ]
    },
    {
     "data": {
      "text/plain": [
       "<matplotlib.legend.Legend at 0x7f06107f0080>"
      ]
     },
     "execution_count": 10,
     "metadata": {},
     "output_type": "execute_result"
    },
    {
     "data": {
      "image/png": "[encoded data removed]",
      "text/plain": [
       "<Figure size 432x288 with 1 Axes>"
      ]
     },
     "metadata": {
      "needs_background": "light"
     },
     "output_type": "display_data"
    }
   ],
   "source": [
    "print(history.history.keys())\n",
    "plt.figure(1)\n",
    "plt.plot(history.history['acc'])\n",
    "plt.plot(history.history['val_acc'])\n",
    "plt.title('model accuracy')\n",
    "plt.ylabel('accuracy')\n",
    "plt.xlabel('epoch')\n",
    "plt.legend(['train', 'validation'], loc='upper left')"
   ]
  },
  {
   "cell_type": "code",
   "execution_count": null,
   "id": "8cda2ee8",
   "metadata": {},
   "outputs": [],
   "source": []
  }
 ],
 "metadata": {
  "kernelspec": {
   "display_name": "Python 3",
   "language": "python",
   "name": "python3"
  },
  "language_info": {
   "codemirror_mode": {
    "name": "ipython",
    "version": 3
   },
   "file_extension": ".py",
   "mimetype": "text/x-python",
   "name": "python",
   "nbconvert_exporter": "python",
   "pygments_lexer": "ipython3",
   "version": "3.6.12"
  }
 },
 "nbformat": 4,
 "nbformat_minor": 5
}
